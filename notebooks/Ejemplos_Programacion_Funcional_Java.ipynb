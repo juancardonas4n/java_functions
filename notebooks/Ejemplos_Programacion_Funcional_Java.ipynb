{
 "cells": [
  {
   "cell_type": "markdown",
   "id": "2fa519d6",
   "metadata": {},
   "source": [
    "# Programación funcional en Java\n",
    "\n",
    "\n",
    "## Funciones Lambdas ($\\lambda$)\n",
    "\n",
    "A partir de Java 8, nos permite utilizar un concepto muy poderoso llamado funciones lambda, también conocidos como funciones anónimas.\n",
    "\n",
    "Suponga que tenemos una clase que establece una nota y su porcentaje\n",
    "\n",
    "```java\n",
    "public class Nota {\n",
    "    private double valor;\n",
    "    private double por; // Porcentaje\n",
    "    \n",
    "    public Nota(double por) {\n",
    "        this.valor = 0.0;\n",
    "        this.por = por;\n",
    "    }\n",
    "    \n",
    "    public double establecerValor(double valor) {\n",
    "        this.valor = valor;\n",
    "    }\n",
    "    \n",
    "    public double obtenerNotaPorcentual() {\n",
    "        return valor * por;\n",
    "    }\n",
    "}\n",
    "```\n",
    "\n",
    "Suponga que definimos una función que imprimie la nota porcentual:\n",
    "\n",
    "```java\n",
    "public void imprimirNotaPorcentaje(Nota nota) {\n",
    "    System.out.println(nota.obtenerNotaPorcentual());\n",
    "}\n",
    "```\n",
    "\n",
    "La versión de la función lambda equivalente sería:\n",
    "\n",
    "```java\n",
    "(Nota nota) -> {\n",
    "    System.out.println(nota.obtenerNotaPorcentual());\n",
    "}\n",
    "```\n",
    "\n",
    "Existen diferencias entre ambas:\n",
    "\n",
    "* No existe un constructor público o privado. La visibilidad es pública.\n",
    "* No exisde un tipo de retorno especificado. Es el compilador el encargado de establecer cuál es el valor de retorno.\n",
    "* La función lambda ($\\lambda$) no tiene nombre, de ahí su otro nombre *funciones anónimas*.\n",
    "* El operador `->` separa la lista de parámetros del cuerpo de la función lambda (\\$\\lambda$)\n",
    "\n",
    "Existen varios formatos de funciones lambda ($\\lambda$) o anónimas que tiene que ver con los paréntesis y las llaves:\n",
    "\n",
    "* Si la lista de parámetros contiene un único parámetro, puede omitirse los paréntesis.\n",
    "```java\n",
    "nota -> {\n",
    "    System.out.println(nota.obtenerNotaPorcentual());\n",
    "}\n",
    "```\n",
    "* Si el cuerpo de la lambda ($\\lambda$) tiene una única intrucción, podrán omitirse las llaves.\n",
    "```java\n",
    "nota -> System.out.println(nota.obtenerNotaPorcentual());\n",
    "```\n",
    "\n",
    "## interface `Function`\n",
    "\n",
    "La interface `Function<T,R>` representa un función que acepta un argumento y produce un resultado.\n",
    "\n",
    "```java\n",
    "Function<Integer,String> i2s = i -> \"Valor: \" + i;\n",
    "```\n",
    "\n",
    "En el ejemplo anterior, estamos definiendo una variable que va a contener una función, llamada `i2s`. Esta función recibe un parámetro `i` de tipo `Integer`(no `int` porque esta funciones requiere de objetos). De esta forma tenemos una función como un valor.\n",
    "\n",
    "Y puede ser invocada directamente:\n",
    "\n",
    "```java\n",
    "is2(3).apply();\n",
    "\"Valor: 3\"\n",
    "```\n",
    "\n",
    "Antes de hacer los ejercicios ejecutar la siguiente celda para importar las funciones"
   ]
  },
  {
   "cell_type": "code",
   "execution_count": 21,
   "id": "9e690677",
   "metadata": {},
   "outputs": [],
   "source": [
    "import java.util.function.Function;\n",
    "import java.util.function.BiFunction;\n",
    "import java.util.ArrayList;\n",
    "import java.util.Iterator;\n",
    "import java.util.Scanner;\n",
    "import java.io.File;\n",
    "import java.io.FileNotFoundException;"
   ]
  },
  {
   "cell_type": "markdown",
   "id": "f172107f",
   "metadata": {},
   "source": [
    "### Ejercicio un valor que contiene una función `incr`\n",
    "\n",
    "Definir un valor que almacena una función que llamaremos `incr` que toma un valor entero y lo incrementa en una unidad."
   ]
  },
  {
   "cell_type": "code",
   "execution_count": 10,
   "id": "a90be712",
   "metadata": {
    "solution2": "hidden",
    "solution2_first": true
   },
   "outputs": [],
   "source": [
    "// Definir función incr\n",
    "int i = 0;\n",
    "i = incr.apply(i);"
   ]
  },
  {
   "cell_type": "code",
   "execution_count": null,
   "id": "b2055f2e",
   "metadata": {
    "solution2": "hidden"
   },
   "outputs": [],
   "source": [
    "Function<Integer,Integer> incr = i -> i + 1;\n",
    "int i = 0;\n",
    "i = incr.apply(i);"
   ]
  },
  {
   "cell_type": "markdown",
   "id": "a9767c1d",
   "metadata": {},
   "source": [
    "### Ejercicio un valor que contiene un función `doble`\n",
    "\n",
    "Definir un valor que almacena una función que llamaremos `doble` que toma un valor entero y lo incrementa en una unidad"
   ]
  },
  {
   "cell_type": "code",
   "execution_count": null,
   "id": "d6e29772",
   "metadata": {
    "solution2": "hidden",
    "solution2_first": true
   },
   "outputs": [],
   "source": [
    "// Definir función doble\n",
    "int j = 2;\n",
    "j = doble.apply(j);"
   ]
  },
  {
   "cell_type": "code",
   "execution_count": 22,
   "id": "72fd1eac",
   "metadata": {
    "solution2": "hidden"
   },
   "outputs": [],
   "source": [
    "Function<Integer,Integer> doble = i -> i + i;\n",
    "int j = 2;\n",
    "j = doble.apply(j);"
   ]
  },
  {
   "cell_type": "markdown",
   "id": "80962caf",
   "metadata": {},
   "source": [
    "## Interface `Function` operación `compose`\n",
    "\n",
    "La interface `Function` consta de varios métodos que permite construir funciones más complejas. Comencemos por las funciones de composición de permite construir una función a partir de la combinación de dos funciones. Miremos el siguiente ejemplo.\n",
    "\n",
    "```java\n",
    "Function<Integer,String> i2s = i -> i.toString();\n",
    "Function<String,Integer> s2i = s -> Integer.parseInt(s);\n",
    "Function<Integer,Integer> i2i = s2i.compose(i2s);\n",
    "int i = 10;\n",
    "i = i2i.apply(i);\n",
    "System.out.println(i);\n",
    "```\n",
    "\n",
    "En este caso hemos creado dos funciones `i2s` que convierte un valor enter a una cadena de carácteres y `s2i` que toma un valor de carácter (que contiene un entero) y lo convierte a entero. Podemos crear una función que tome un valor a entero, lo convierta a un valor de tipo `String` y lo retorne en un valor entero. \n",
    "\n",
    "### Ejercicio función `s2s`\n",
    "\n",
    "Aplicando las funciones ya vistas construya una función `s2s` utilizando el mismo principio y teniendo en cuenta que solamente vamos a recibir valores de tipo entero."
   ]
  },
  {
   "cell_type": "code",
   "execution_count": null,
   "id": "74df35e4",
   "metadata": {
    "solution2": "hidden",
    "solution2_first": true
   },
   "outputs": [],
   "source": [
    "Function<Integer,String> i2s = i -> i.toString();\n",
    "Function<String,Integer> s2i = s -> Integer.parseInt(s);\n",
    "// Defina la funcion s2s\n",
    "String s = \"10\";\n",
    "String r = s2s.apply(s);\n",
    "System.out.println(r);"
   ]
  },
  {
   "cell_type": "code",
   "execution_count": null,
   "id": "ada9dc01",
   "metadata": {
    "solution2": "hidden"
   },
   "outputs": [],
   "source": [
    "Function<Integer,String> i2s = i -> i.toString();\n",
    "Function<String,Integer> s2i = s -> Integer.parseInt(s);\n",
    "// Defina la funcion s2s\n",
    "Function<String,String> s2s = i2s.compose(s2i);\n",
    "String s = \"10\";\n",
    "String r = s2s.apply(s);\n",
    "System.out.println(r);"
   ]
  },
  {
   "cell_type": "markdown",
   "id": "beb3a90a",
   "metadata": {},
   "source": [
    "## Interface `Function` operación `andThen`\n",
    "\n",
    "La interface `Function` tiene una versión inversa en la aplicación de la función `compose`, esta función es `andThen` que cambia el orden de aplicación como lo veremos en el siguiente ejemplo,\n",
    "\n",
    "```java\n",
    "Function<Integer,String> i2s = i -> i.toString();\n",
    "Function<String,Integer> s2i = s -> Integer.parseInt(s);\n",
    "Function<Integer,Integer> i2i = i2s.andThen(s2i); // s2i.compose(i2s);\n",
    "int i = 10;\n",
    "i = i2i.apply(i);\n",
    "System.out.println(i);\n",
    "```\n",
    "\n",
    "Observe que estamos creando nuevamente la función `i2i`, pero esta vez lo estamos haciendo utilizando el método `andThen` pero aunque el orden se cambiado, se pasa primero como parámetro `s2i` y luego `i2s`, el orden de aplicación será primero `i2` y luego `s2i`.\n",
    "\n",
    "### Ejercicio funcion `s2s2` \n",
    "\n",
    "Vamos a construir una variante de la función `s2s` que anteriormente habíamos implementado pero en vez de utilizar el método `compose` utilizaremos en este caso el método `andThen`."
   ]
  },
  {
   "cell_type": "code",
   "execution_count": null,
   "id": "39f1feaf",
   "metadata": {
    "solution2": "hidden",
    "solution2_first": true
   },
   "outputs": [],
   "source": [
    "Function<Integer,String> i2s = i -> i.toString();\n",
    "Function<String,Integer> s2i = s -> Integer.parseInt(s);\n",
    "// Defina la función s2s2 \n",
    "String s = \"10\";\n",
    "String r = s2s2.apply(s);\n",
    "System.out.println(r);"
   ]
  },
  {
   "cell_type": "code",
   "execution_count": null,
   "id": "5135c614",
   "metadata": {
    "solution2": "hidden"
   },
   "outputs": [],
   "source": [
    "Function<Integer,String> i2s = i -> i.toString();\n",
    "Function<String,Integer> s2i = s -> Integer.parseInt(s);\n",
    "Function<String,String>  s2s2 = s2i.andThen(i2s);\n",
    "String s = \"10\";\n",
    "String r = s2s2.apply(s);\n",
    "System.out.println(r);"
   ]
  },
  {
   "cell_type": "markdown",
   "id": "22c0f0db",
   "metadata": {},
   "source": [
    "## Funciones de identidad\n",
    "\n",
    "Una función de identidad, es aquella que recibe un valor de un tipo `T` y retorna el mismo valor (obviamente del mismo tipo). Ya hemos visto anteriomente varias versiones de esta función, implementada de forma indirecta: `i2i`, `s2s`, etc., es decir que se implementa a través de dos funciones.\n",
    "\n",
    "Esto se pude lograr de forma directa de la siguiente forma:\n",
    "\n",
    "```java\n",
    "Function<Integer,Integer> i2i3 = t -> t;\n",
    "int i = 22;\n",
    "int j = i2i3.apply(i);\n",
    "System.out.printf(\"i: %d j: %d\\n\", i, j);\n",
    "```\n",
    "\n",
    "Esta es una forma de obtener dicha función de identidad. Existe aún otra más forma de implementar y en este caso se obtiene a través del método estático `identity()` de la interface `Function` este permite que no tengamos que escribir una función lambda ($\\lambda$), sin que este método nos retorna la función correspondiente al tipo esperado.\n",
    "\n",
    "### Función de identidad `id_d` \n",
    "\n",
    "La función `id_d` es la función de identidad para el tipo `double`. Implemente dicha función utilizando para ello el método estático `identity()` de la interface `Function`"
   ]
  },
  {
   "cell_type": "code",
   "execution_count": null,
   "id": "4a190254",
   "metadata": {
    "solution2": "hidden",
    "solution2_first": true
   },
   "outputs": [],
   "source": [
    "// Defina la función id_d por medio del método estático `identity()`\n",
    "double l = 23.4;\n",
    "double m = id_d.apply(l);\n",
    "System.out.printf(\"l: %2.2f m: %2.2f\\n\", l, m);"
   ]
  },
  {
   "cell_type": "code",
   "execution_count": null,
   "id": "3cd77234",
   "metadata": {
    "solution2": "hidden"
   },
   "outputs": [],
   "source": [
    "Function <Double,Double> id_d = Function.identity();\n",
    "double l = 23.4;\n",
    "double m = id_d.apply(l);\n",
    "System.out.printf(\"l: %2.2f m: %2.2f\\n\", l, m);"
   ]
  },
  {
   "cell_type": "markdown",
   "id": "3bcf1a7b",
   "metadata": {},
   "source": [
    "## Streams (Flujos)\n",
    "\n",
    "Los *Streams* (Flujos) permiten un procesamiento unificado de las colecciones y otros conjuntos de datos. Este proporciona un grupo de métodos que permiten manipular estos tipos de datos.\n",
    "\n",
    "Y aunque los *streams* (Flujos) se asemejan a las colecciones, existen algunas diferencias notables.\n",
    "\n",
    "* Algunas colecciones pueden ser referenciadas por un índice, los *streams* no puede ser referenciados de esta forma por lo tanto son accedidos secuencialmente.\n",
    "* Una vez se obtiene una referencia a un *streams*, su contenido y orden ya se encuentra preestablecidos por lo tanto no pueden modificarse.\n",
    "* Los *streams* podrían contener un flujo infinito.\n",
    "\n",
    "Observe el siguiente ejemplo a partir de una colección de tipo `ArrayList` podemos obtener un flujo y procesarlo en este caso obteniendo únicamente los valores pares de dicha colección. \n",
    "\n",
    "```java\n",
    "import java.util.ArrayList;\n",
    "\n",
    "ArrayList<Integer> al = new ArrayList<>();\n",
    "for (int i = 0; i < 20; i++) al.add(i);\n",
    "al.stream().filter(e -> e % 2 == 0).forEach(e -> System.out.println(e));\n",
    "```\n",
    "\n",
    "Un *stream* nos facilita procesar una colección de elementos de forma mucho más efectiva. Siempre debe tener en cuenta que el *stream* no modifica el contenido original, sino que se encarga de crear un nuevo.\n",
    "\n",
    "\n",
    "Para los siguientes ejercicios vamos a tener un sistema de Registro de Vigilancia de Vehiculos, en diferentes carreteras."
   ]
  },
  {
   "cell_type": "code",
   "execution_count": 22,
   "id": "05566b88",
   "metadata": {},
   "outputs": [],
   "source": [
    "public class Registro {\n",
    "   private final String modelo; // Modelo Vehiculo \n",
    "   private final int observador; // Identificador del observador\n",
    "   private final int contador; // Numero de vehículos observados\n",
    "   private final int carretera; // Numero de la carretera\n",
    "   private final int periodo; // \n",
    "   \n",
    "   /**\n",
    "   * Crea un registro de una observacion de un modelo de vehiculo en una carretera\n",
    "   * @param modelo El modelo del vehiculo\n",
    "   * @param observador El ID del observador\n",
    "   * @param contador Número de vehiculos observados\n",
    "   * @param carretera El ID de la carretera en que fueron vistos\n",
    "   * @param period    El periodo del informe\n",
    "   */\n",
    "   public Registro(String modelo, int observador, int contador, int carretera, int periodo) {\n",
    "      this.modelo = modelo;\n",
    "      this.observador = observador;\n",
    "      this.contador = contador;\n",
    "      this.carretera = carretera;\n",
    "      this.periodo = periodo;\n",
    "   }\n",
    "   \n",
    "   public String obtModelo() {\n",
    "      return modelo;\n",
    "   }\n",
    "   \n",
    "   public int obtObservador() {\n",
    "       return observador;\n",
    "   }\n",
    "   \n",
    "   public int obtContador() {\n",
    "       return contador;\n",
    "   }\n",
    "   \n",
    "   public int obtCarretera() {\n",
    "       return carretera;\n",
    "   }\n",
    "   \n",
    "   public int periodo() {\n",
    "       return periodo;\n",
    "   }\n",
    "   \n",
    "   public String obtDetalles() {\n",
    "       return modelo +\n",
    "           \", contador =\" + contador +\n",
    "           \", carretera =\" + carretera + \n",
    "           \", observador =\" + observador +\n",
    "           \", periodo =\" + periodo;\n",
    "   }\n",
    "}\n",
    "\n",
    "public class LectorRegistro {\n",
    "\n",
    "    public LectorRegistro() {\n",
    "    }\n",
    "\n",
    "    public ArrayList<Registro> obtRegistros(String nombreFichero)\n",
    "        throws FileNotFoundException {\n",
    "        ArrayList<Registro> registros = new ArrayList<>();\n",
    "        Scanner scanner = new Scanner(new File(nombreFichero));\n",
    "        while (scanner.hasNextLine()) {\n",
    "            String linea = scanner.nextLine();\n",
    "            String []campos = linea.split(\",\");\n",
    "            registros.add(new Registro(campos[0],\n",
    "                                       Integer.parseInt(campos[1]),\n",
    "                                       Integer.parseInt(campos[2]),\n",
    "                                       Integer.parseInt(campos[3]),\n",
    "                                       Integer.parseInt(campos[4])));\n",
    "        }\n",
    "        return registros;\n",
    "    }\n",
    "}\n",
    "\n",
    "public class MonitorRegistro {\n",
    "   private ArrayList<Registro> registros;\n",
    "   \n",
    "   public MonitorRegistro() {\n",
    "     this.registros = new ArrayList<>();\n",
    "   }\n",
    "   \n",
    "   public void adicionarRegistros(String nombreFichero) {\n",
    "      LectorRegistro lr = new LectorRegistro();\n",
    "      try {\n",
    "         registros.addAll(lr.obtRegistros(nombreFichero));\n",
    "      }\n",
    "      catch (FileNotFoundException fnfe) {\n",
    "         System.err.println(\"Fichero no encontrado: \" + nombreFichero);\n",
    "      }\n",
    "   }\n",
    "}"
   ]
  },
  {
   "cell_type": "markdown",
   "id": "300db650",
   "metadata": {},
   "source": [
    "Vamos a implementar algunos problemas.\n",
    "\n",
    "### Ejercicio. Mostrar todos los registros obtenidos de fichero\n",
    "\n",
    "Adicionar a la clase `MonitorRegistro` un método llamado `mostrarModelo` que tenga la siguiente firma.\n",
    "\n",
    "```java\n",
    "public void mostrarModelo(String modelo) { ... }\n",
    "```\n",
    "\n",
    "### Ejercicio. Mostrar los vehiculos que cumplan una condición especifica\n",
    "\n",
    "Adicionar a la clase `MonitorRegistro` un método llamado:\n",
    "```java\n",
    "public void mostrarPredicado(Function<Registro,Boolean> predicado) { ... }\n",
    "```\n",
    "\n",
    "### Ejercicio. Contar un valor especifico de los vehiculos\n",
    "\n",
    "Adicioanr a la clase `MonitorRegistor` un método llamado:\n",
    "\n",
    "```java\n",
    "public int contar(BiFunction<Registro,Integer,Integer> funcion) { ... }\n",
    "```\n",
    "\n",
    "### Ejercicio. Contar un valor especifico de los vehiculso con una condición especifica\n",
    "\n",
    "Adicionar a la clase `MonitorRegistro` un método llamado:\n",
    "\n",
    "```java\n",
    "public int contarPredicador(Function<Registro,Boolean> predicado, BiFunction<Registro,Integer,Integer> funcion) { .. }\n",
    "```\n"
   ]
  }
 ],
 "metadata": {
  "kernelspec": {
   "display_name": "Java",
   "language": "java",
   "name": "java"
  },
  "language_info": {
   "codemirror_mode": "java",
   "file_extension": ".jshell",
   "mimetype": "text/x-java-source",
   "name": "Java",
   "pygments_lexer": "java",
   "version": "11.0.9+11"
  }
 },
 "nbformat": 4,
 "nbformat_minor": 5
}
