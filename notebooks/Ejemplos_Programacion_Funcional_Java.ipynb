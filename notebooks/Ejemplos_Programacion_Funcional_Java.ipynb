{
 "cells": [
  {
   "cell_type": "markdown",
   "id": "9b842090",
   "metadata": {},
   "source": [
    "# Programación funcional en Java\n",
    "\n",
    "\n",
    "## Funciones Lambdas ($\\lambda$)\n",
    "\n",
    "A partir de Java 8, nos permite utilizar un concepto muy poderoso llamado funciones lambda, también conocidos como funciones anónimas.\n",
    "\n",
    "Suponga que tenemos una clase que establece una nota y su porcentaje\n",
    "\n",
    "```java\n",
    "public class Nota {\n",
    "    private double valor;\n",
    "    private double por; // Porcentaje\n",
    "    \n",
    "    public Nota(double por) {\n",
    "        this.valor = 0.0;\n",
    "        this.por = por;\n",
    "    }\n",
    "    \n",
    "    public double establecerValor(double valor) {\n",
    "        this.valor = valor;\n",
    "    }\n",
    "    \n",
    "    public double obtenerNotaPorcentual() {\n",
    "        return valor * por;\n",
    "    }\n",
    "}\n",
    "```\n",
    "\n",
    "Suponga que definimos una función que imprimie la nota porcentual:\n",
    "\n",
    "```java\n",
    "public void imprimirNotaPorcentaje(Nota nota) {\n",
    "    System.out.println(nota.obtenerNotaPorcentual());\n",
    "}\n",
    "```\n",
    "\n",
    "La versión de la función lambda equivalente sería:\n",
    "\n",
    "```java\n",
    "(Nota nota) -> {\n",
    "    System.out.println(nota.obtenerNotaPorcentual());\n",
    "}\n",
    "```\n",
    "\n",
    "Existen diferencias entre ambas:\n",
    "\n",
    "* No existe un constructor público o privado. La visibilidad es pública.\n",
    "* No exisde un tipo de retorno especificado. Es el compilador el encargado de establecer cuál es el valor de retorno.\n",
    "* La función lambda ($\\lambda$) no tiene nombre, de ahí su otro nombre *funciones anónimas*.\n",
    "* El operador `->` separa la lista de parámetros del cuerpo de la función lambda (\\$\\lambda$)\n",
    "\n",
    "Existen varios formatos de funciones lambda ($\\lambda$) o anónimas que tiene que ver con los paréntesis y las llaves:\n",
    "\n",
    "* Si la lista de parámetros contiene un único parámetro, puede omitirse los paréntesis.\n",
    "```java\n",
    "nota -> {\n",
    "    System.out.println(nota.obtenerNotaPorcentual());\n",
    "}\n",
    "```\n",
    "* Si el cuerpo de la lambda ($\\lambda$) tiene una única intrucción, podrán omitirse las llaves.\n",
    "```java\n",
    "nota -> System.out.println(nota.obtenerNotaPorcentual());\n",
    "```\n",
    "\n",
    "## interface `Function`\n",
    "\n",
    "La interface `Function<T,R>` representa un función que acepta un argumento y produce un resultado.\n",
    "\n",
    "```java\n",
    "Function<Integer,String> i2s = i -> \"Valor: \" + i;\n",
    "```\n",
    "\n",
    "En el ejemplo anterior, estamos definiendo una variable que va a contener una función, llamada `i2s`. Esta función recibe un parámetro `i` de tipo `Integer`(no `int` porque esta funciones requiere de objetos). De esta forma tenemos una función como un valor.\n",
    "\n",
    "Y puede ser invocada directamente:\n",
    "\n",
    "```java\n",
    "is2(3).apply();\n",
    "\"Valor: 3\"\n",
    "```\n",
    "\n",
    "Antes de hacer los ejercicios ejecutar la siguiente celda para importar las funciones"
   ]
  },
  {
   "cell_type": "code",
   "execution_count": 15,
   "id": "ee30124c",
   "metadata": {},
   "outputs": [],
   "source": [
    "import java.util.function.Function;"
   ]
  },
  {
   "cell_type": "markdown",
   "id": "fc4ab4ee",
   "metadata": {},
   "source": [
    "### Ejercicio un valor que contiene una función `incr`\n",
    "\n",
    "Definir un valor que almacena una función que llamaremos `incr` que toma un valor entero y lo incrementa en una unidad."
   ]
  },
  {
   "cell_type": "code",
   "execution_count": 10,
   "id": "a36126a1",
   "metadata": {
    "solution2": "hidden",
    "solution2_first": true
   },
   "outputs": [],
   "source": [
    "// Definir función incr\n",
    "int i = 0;\n",
    "i = incr.apply(i);"
   ]
  },
  {
   "cell_type": "code",
   "execution_count": null,
   "id": "96f91482",
   "metadata": {
    "solution2": "hidden"
   },
   "outputs": [],
   "source": [
    "Function<Integer,Integer> incr = i -> i + 1;\n",
    "int i = 0;\n",
    "i = incr.apply(i);"
   ]
  },
  {
   "cell_type": "markdown",
   "id": "561a107a",
   "metadata": {},
   "source": [
    "### Ejercicio un valor que contiene un función `doble`\n",
    "\n",
    "Definir un valor que almacena una función que llamaremos `doble` que toma un valor entero y lo incrementa en una unidad"
   ]
  },
  {
   "cell_type": "code",
   "execution_count": null,
   "id": "b774905a",
   "metadata": {
    "solution2": "hidden",
    "solution2_first": true
   },
   "outputs": [],
   "source": [
    "// Definir función doble\n",
    "int j = 2;\n",
    "j = doble.apply(j);"
   ]
  },
  {
   "cell_type": "code",
   "execution_count": 22,
   "id": "c57a9891",
   "metadata": {
    "solution2": "hidden"
   },
   "outputs": [],
   "source": [
    "Function<Integer,Integer> doble = i -> i + i;\n",
    "int j = 2;\n",
    "j = doble.apply(j);"
   ]
  },
  {
   "cell_type": "markdown",
   "id": "54de3fd5",
   "metadata": {},
   "source": [
    "## Interface `Function` algunas operaciones\n",
    "\n",
    "La interface tiene una función "
   ]
  }
 ],
 "metadata": {
  "kernelspec": {
   "display_name": "Java",
   "language": "java",
   "name": "java"
  },
  "language_info": {
   "codemirror_mode": "java",
   "file_extension": ".jshell",
   "mimetype": "text/x-java-source",
   "name": "Java",
   "pygments_lexer": "java",
   "version": "11.0.9+11"
  }
 },
 "nbformat": 4,
 "nbformat_minor": 5
}
