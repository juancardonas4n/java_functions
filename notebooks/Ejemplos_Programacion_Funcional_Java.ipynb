{
 "cells": [
  {
   "cell_type": "markdown",
   "id": "2fa519d6",
   "metadata": {},
   "source": [
    "# Programación funcional en Java\n",
    "\n",
    "\n",
    "## Funciones Lambdas ($\\lambda$)\n",
    "\n",
    "A partir de Java 8, nos permite utilizar un concepto muy poderoso llamado funciones lambda, también conocidos como funciones anónimas.\n",
    "\n",
    "Suponga que tenemos una clase que establece una nota y su porcentaje\n",
    "\n",
    "```java\n",
    "public class Nota {\n",
    "    private double valor;\n",
    "    private double por; // Porcentaje\n",
    "    \n",
    "    public Nota(double por) {\n",
    "        this.valor = 0.0;\n",
    "        this.por = por;\n",
    "    }\n",
    "    \n",
    "    public double establecerValor(double valor) {\n",
    "        this.valor = valor;\n",
    "    }\n",
    "    \n",
    "    public double obtenerNotaPorcentual() {\n",
    "        return valor * por;\n",
    "    }\n",
    "}\n",
    "```\n",
    "\n",
    "Suponga que definimos una función que imprimie la nota porcentual:\n",
    "\n",
    "```java\n",
    "public void imprimirNotaPorcentaje(Nota nota) {\n",
    "    System.out.println(nota.obtenerNotaPorcentual());\n",
    "}\n",
    "```\n",
    "\n",
    "La versión de la función lambda equivalente sería:\n",
    "\n",
    "```java\n",
    "(Nota nota) -> {\n",
    "    System.out.println(nota.obtenerNotaPorcentual());\n",
    "}\n",
    "```\n",
    "\n",
    "Existen diferencias entre ambas:\n",
    "\n",
    "* No existe un constructor público o privado. La visibilidad es pública.\n",
    "* No exisde un tipo de retorno especificado. Es el compilador el encargado de establecer cuál es el valor de retorno.\n",
    "* La función lambda ($\\lambda$) no tiene nombre, de ahí su otro nombre *funciones anónimas*.\n",
    "* El operador `->` separa la lista de parámetros del cuerpo de la función lambda (\\$\\lambda$)\n",
    "\n",
    "Existen varios formatos de funciones lambda ($\\lambda$) o anónimas que tiene que ver con los paréntesis y las llaves:\n",
    "\n",
    "* Si la lista de parámetros contiene un único parámetro, puede omitirse los paréntesis.\n",
    "```java\n",
    "nota -> {\n",
    "    System.out.println(nota.obtenerNotaPorcentual());\n",
    "}\n",
    "```\n",
    "* Si el cuerpo de la lambda ($\\lambda$) tiene una única intrucción, podrán omitirse las llaves.\n",
    "```java\n",
    "nota -> System.out.println(nota.obtenerNotaPorcentual());\n",
    "```\n",
    "\n",
    "## interface `Function`\n",
    "\n",
    "La interface `Function<T,R>` representa un función que acepta un argumento y produce un resultado.\n",
    "\n",
    "```java\n",
    "Function<Integer,String> i2s = i -> \"Valor: \" + i;\n",
    "```\n",
    "\n",
    "En el ejemplo anterior, estamos definiendo una variable que va a contener una función, llamada `i2s`. Esta función recibe un parámetro `i` de tipo `Integer`(no `int` porque esta funciones requiere de objetos). De esta forma tenemos una función como un valor.\n",
    "\n",
    "Y puede ser invocada directamente:\n",
    "\n",
    "```java\n",
    "is2(3).apply();\n",
    "\"Valor: 3\"\n",
    "```\n",
    "\n",
    "Antes de hacer los ejercicios ejecutar la siguiente celda para importar las funciones"
   ]
  },
  {
   "cell_type": "code",
   "execution_count": 15,
   "id": "9e690677",
   "metadata": {},
   "outputs": [],
   "source": [
    "import java.util.function.Function;"
   ]
  },
  {
   "cell_type": "markdown",
   "id": "f172107f",
   "metadata": {},
   "source": [
    "### Ejercicio un valor que contiene una función `incr`\n",
    "\n",
    "Definir un valor que almacena una función que llamaremos `incr` que toma un valor entero y lo incrementa en una unidad."
   ]
  },
  {
   "cell_type": "code",
   "execution_count": 10,
   "id": "a90be712",
   "metadata": {
    "solution2": "hidden",
    "solution2_first": true
   },
   "outputs": [],
   "source": [
    "// Definir función incr\n",
    "int i = 0;\n",
    "i = incr.apply(i);"
   ]
  },
  {
   "cell_type": "code",
   "execution_count": null,
   "id": "b2055f2e",
   "metadata": {
    "solution2": "hidden"
   },
   "outputs": [],
   "source": [
    "Function<Integer,Integer> incr = i -> i + 1;\n",
    "int i = 0;\n",
    "i = incr.apply(i);"
   ]
  },
  {
   "cell_type": "markdown",
   "id": "a9767c1d",
   "metadata": {},
   "source": [
    "### Ejercicio un valor que contiene un función `doble`\n",
    "\n",
    "Definir un valor que almacena una función que llamaremos `doble` que toma un valor entero y lo incrementa en una unidad"
   ]
  },
  {
   "cell_type": "code",
   "execution_count": null,
   "id": "d6e29772",
   "metadata": {
    "solution2": "hidden",
    "solution2_first": true
   },
   "outputs": [],
   "source": [
    "// Definir función doble\n",
    "int j = 2;\n",
    "j = doble.apply(j);"
   ]
  },
  {
   "cell_type": "code",
   "execution_count": 22,
   "id": "72fd1eac",
   "metadata": {
    "solution2": "hidden"
   },
   "outputs": [],
   "source": [
    "Function<Integer,Integer> doble = i -> i + i;\n",
    "int j = 2;\n",
    "j = doble.apply(j);"
   ]
  },
  {
   "cell_type": "markdown",
   "id": "80962caf",
   "metadata": {},
   "source": [
    "## Interface `Function` operación `compose`\n",
    "\n",
    "La interface `Function` consta de varios métodos que permite construir funciones más complejas. Comencemos por las funciones de composición de permite construir una función a partir de la combinación de dos funciones. Miremos el siguiente ejemplo.\n",
    "\n",
    "```java\n",
    "Function<Integer,String> i2s = i -> i.toString();\n",
    "Function<String,Integer> s2i = s -> Integer.parseInt(s);\n",
    "Function<Integer,Integer> i2i = s2i.compose(i2s);\n",
    "int i = 10;\n",
    "i = i2i.apply(i);\n",
    "System.out.println(i);\n",
    "```\n",
    "\n",
    "En este caso hemos creado dos funciones `i2s` que convierte un valor enter a una cadena de carácteres y `s2i` que toma un valor de carácter (que contiene un entero) y lo convierte a entero. Podemos crear una función que tome un valor a entero, lo convierta a un valor de tipo `String` y lo retorne en un valor entero. \n",
    "\n",
    "### Ejercicio función `s2s`\n",
    "\n",
    "Aplicando las funciones ya vistas construya una función `s2s` utilizando el mismo principio y teniendo en cuenta que solamente vamos a recibir valores de tipo entero."
   ]
  },
  {
   "cell_type": "code",
   "execution_count": null,
   "id": "74df35e4",
   "metadata": {
    "solution2": "hidden",
    "solution2_first": true
   },
   "outputs": [],
   "source": [
    "Function<Integer,String> i2s = i -> i.toString();\n",
    "Function<String,Integer> s2i = s -> Integer.parseInt(s);\n",
    "// Defina la funcion s2s\n",
    "String s = \"10\";\n",
    "String r = s2s.apply(s);\n",
    "System.out.println(r);"
   ]
  },
  {
   "cell_type": "code",
   "execution_count": null,
   "id": "ada9dc01",
   "metadata": {
    "solution2": "hidden"
   },
   "outputs": [],
   "source": [
    "Function<Integer,String> i2s = i -> i.toString();\n",
    "Function<String,Integer> s2i = s -> Integer.parseInt(s);\n",
    "// Defina la funcion s2s\n",
    "Function<String,String> s2s = i2s.compose(s2i);\n",
    "String s = \"10\";\n",
    "String r = s2s.apply(s);\n",
    "System.out.println(r);"
   ]
  },
  {
   "cell_type": "markdown",
   "id": "beb3a90a",
   "metadata": {},
   "source": [
    "## Interface `Function` operación andThen\n",
    "\n",
    "La interface `Function` tiene una versión inversa en la aplicación de la función `compose`, esta función es `andThen` que cambia el orden de aplicación como lo veremos en el siguiente ejemplo,\n",
    "\n",
    "```java\n",
    "Function<Integer,String> i2s = i -> i.toString();\n",
    "Function<String,Integer> s2i = s -> Integer.parseInt(s);\n",
    "Function<Integer,Integer> i2i = i2s.andThen(s2i); // s2i.compose(i2s);\n",
    "int i = 10;\n",
    "i = i2i.apply(i);\n",
    "System.out.println(i);\n",
    "```\n",
    "\n",
    "Observe que estamos creando nuevamente la función `i2i`, pero esta vez lo estamos haciendo utilizando el método `andThen` pero aunque el orden se cambiado, se pasa primero como parámetro `s2i` y luego `i2s`, el orden de aplicación será primero `i2` y luego `s2i`.\n",
    "\n",
    "### Ejercicio funcion `s2s2` \n",
    "\n",
    "Vamos a construir una variante de la funcion"
   ]
  },
  {
   "cell_type": "code",
   "execution_count": null,
   "id": "39f1feaf",
   "metadata": {},
   "outputs": [],
   "source": []
  }
 ],
 "metadata": {
  "kernelspec": {
   "display_name": "Java",
   "language": "java",
   "name": "java"
  },
  "language_info": {
   "codemirror_mode": "java",
   "file_extension": ".jshell",
   "mimetype": "text/x-java-source",
   "name": "Java",
   "pygments_lexer": "java",
   "version": "11.0.9+11"
  }
 },
 "nbformat": 4,
 "nbformat_minor": 5
}
