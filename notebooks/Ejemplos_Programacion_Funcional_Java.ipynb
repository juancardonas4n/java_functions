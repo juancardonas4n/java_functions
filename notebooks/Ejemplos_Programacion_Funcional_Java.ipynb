{
 "cells": [
  {
   "cell_type": "markdown",
   "id": "3a3594a4",
   "metadata": {},
   "source": [
    "# Programación funcional en Java\n",
    "\n",
    "# Funciones Lambdas\n",
    "\n",
    "A partir de Java 8, nos permite utilizar un concepto muy poderoso llamado funciones lambda, también conocidos como funciones anónimas.\n",
    "\n",
    "Suponga que tenemos una clase que establece una nota y su porcentaje\n",
    "\n",
    "```java\n",
    "public class Nota {\n",
    "    private double valor;\n",
    "    private double por; // Porcentaje\n",
    "    \n",
    "    public Nota(double por) {\n",
    "        this.valor = 0.0;\n",
    "        this.por = por;\n",
    "    }\n",
    "    \n",
    "    public double establecerValor(double valor) {\n",
    "        this.valor = valor;\n",
    "    }\n",
    "    \n",
    "    public double obtenerNotaPorcentual() {\n",
    "        return valor * por;\n",
    "    }\n",
    "}\n",
    "```\n",
    "\n",
    "Suponga que definimos una función que imprimie la nota porcentual:\n",
    "\n",
    "```java\n",
    "public void imprimirNotaPorcentaje(Nota nota) {\n",
    "    System.out.println(nota.obtenerNotaPorcentual());\n",
    "}\n",
    "```\n",
    "\n",
    "La versión de la función lambda equivalente sería:\n",
    "\n",
    "```java\n",
    "(Nota nota) -> {\n",
    "    System.out.println(nota.obtenerNotaPorcentual());\n",
    "}\n",
    "```\n",
    "\n"
   ]
  },
  {
   "cell_type": "code",
   "execution_count": null,
   "id": "f63cc846",
   "metadata": {},
   "outputs": [],
   "source": []
  }
 ],
 "metadata": {
  "kernelspec": {
   "display_name": "Java",
   "language": "java",
   "name": "java"
  },
  "language_info": {
   "codemirror_mode": "java",
   "file_extension": ".jshell",
   "mimetype": "text/x-java-source",
   "name": "Java",
   "pygments_lexer": "java",
   "version": "11.0.9+11"
  }
 },
 "nbformat": 4,
 "nbformat_minor": 5
}
